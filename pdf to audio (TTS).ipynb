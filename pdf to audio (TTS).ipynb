{
 "cells": [
  {
   "cell_type": "code",
   "execution_count": 1,
   "id": "d1d10d4e-6732-450d-b792-a720af380988",
   "metadata": {},
   "outputs": [],
   "source": [
    "#!pip install pyttsx3\n",
    "#!pip install pdfplumber\n"
   ]
  },
  {
   "cell_type": "code",
   "execution_count": 1,
   "id": "2e937d44-b8ea-4efb-ab0c-d4312c47e4fd",
   "metadata": {},
   "outputs": [],
   "source": [
    "import pyttsx3\n",
    "import pdfplumber\n",
    "\n",
    "\n"
   ]
  },
  {
   "cell_type": "code",
   "execution_count": 2,
   "id": "0aa48bda-c74e-4f0a-b924-0e139e19971d",
   "metadata": {},
   "outputs": [
    {
     "name": "stderr",
     "output_type": "stream",
     "text": [
      "CropBox missing from /Page, defaulting to MediaBox\n",
      "CropBox missing from /Page, defaulting to MediaBox\n",
      "CropBox missing from /Page, defaulting to MediaBox\n",
      "CropBox missing from /Page, defaulting to MediaBox\n",
      "CropBox missing from /Page, defaulting to MediaBox\n",
      "CropBox missing from /Page, defaulting to MediaBox\n",
      "CropBox missing from /Page, defaulting to MediaBox\n",
      "CropBox missing from /Page, defaulting to MediaBox\n"
     ]
    },
    {
     "data": {
      "text/plain": [
       "'Universitätsklinikum Soltau\\nKlinik für Gastroenterologie\\nGastrostraße 6, 99988 Gastrostadt\\nEmail: info@heidekreis-klinikum.de\\nPhone: 068799456\\nWir berichten über unseren gemeinsamen Patienten Herrn Adam Brody, geb. am 04.04.1804, der\\nsich vom 12.05.1845 bis zum 17.05.1845 in unserer stationären Behandlung befand. Der Patient\\nBrody hat die Krankenversicherungsnummer B123456789 and email id ist\\nbrody.adam@gmail.com.\\nDiagnosen:\\nMagenkarzinom\\npT3, N1, M0, G2, R0; Lauren-Typ: intestinal\\nZustand nach radikaler Gastrektomie mit D2-Lymphadenektomie\\nMikrozytäre Anämie\\nLeichte Tumorkachexie\\nAnamnese:\\nDer 59-jährige Patient stellte sich mit seit ca. sechs Monaten zunehmenden epigastrischen\\nSchmerzen vor, die postprandial verstärkt auftraten. Zudem berichtete er über eine ausgeprägte\\nAppetitlosigkeit und einen unbeabsichtigten Gewichtsverlust von etwa 8 kg innerhalb der letzten\\ndrei Monate. In den letzten Wochen klagte Herr Brady über Dysphagie insbesondere bei festen\\nSpeisen sowie intermittierende Übelkeit und ein frühes Sättigungsgefühl.\\nEs bestand keine Vorerkrankung einer gastroösophagealen Refluxkrankheit oder eines\\nMagenulkus. Die Familienanamnese für gastrointestinale Malignome war negativ. Herr Brody ist\\nNichtraucher, konsumiert jedoch regelmäßig Alkohol in moderaten Mengen (ca. 5–6 Gläser Bier\\npro Woche). Eine relevante Medikamentenanamnese bestand nicht.\\nKörperliche Untersuchung:\\nReduzierter Allgemein- und Ernährungszustand, BMI 22 kg/m², keine Zeichen einer Exsikkose.\\nAbdomen weich, nicht gebläht, diskrete Druckdolenz im Epigastrium ohne Abwehrspannung,\\nkeine tastbaren Resistenzen, Darmgeräusche lebhaft. Keine vergrößerten peripheren\\nLymphknoten palpabel. Haut rosig, keine Blässe oder Ikteruszeichen. Unauffällige Herzaktion\\nund Auskultation, VAG, periphere Durchblutung intakt.\\nDie genetische Variante NM_005936.3:c5687A>G; p.(Met785Val); Chr18:g58484384240T>C ist\\neine Missense-Mutation, die den Austausch von Methionin durch Valin an Position 455 des'"
      ]
     },
     "execution_count": 2,
     "metadata": {},
     "output_type": "execute_result"
    }
   ],
   "source": [
    "# Extract German text\n",
    "with pdfplumber.open(\"test.pdf\") as pdf:\n",
    "    page = pdf.pages[0]\n",
    "    text = page.extract_text()\n",
    "text"
   ]
  },
  {
   "cell_type": "code",
   "execution_count": 3,
   "id": "08183063-93b6-4d56-a5f9-61d6f6f408a3",
   "metadata": {},
   "outputs": [
    {
     "name": "stdout",
     "output_type": "stream",
     "text": [
      "Universitätsklinikum Soltau Klinik für Gastroenterologie Gastrostraße 6, 99988 Gastrostadt Email: info@heidekreis-klinikum.de Phone: 068799456 Wir berichten über unseren gemeinsamen Patienten Herrn Adam Brody, geb. am 04.04.1804, der sich vom 12.05.1845 bis zum 17.05.1845 in unserer stationären Behandlung befand. Der Patient Brody hat die Krankenversicherungsnummer B123456789 and email id ist brody.adam@gmail.com. Diagnosen: Magenkarzinom pT3, N1, M0, G2, R0; Lauren-Typ: intestinal Zustand nach radikaler Gastrektomie mit D2-Lymphadenektomie Mikrozytäre Anämie Leichte Tumorkachexie Anamnese: Der 59-jährige Patient stellte sich mit seit ca. sechs Monaten zunehmenden epigastrischen Schmerzen vor, die postprandial verstärkt auftraten. Zudem berichtete er über eine ausgeprägte Appetitlosigkeit und einen unbeabsichtigten Gewichtsverlust von etwa 8 kg innerhalb der letzten drei Monate. In den letzten Wochen klagte Herr Brady über Dysphagie insbesondere bei festen Speisen sowie intermittierende Übelkeit und ein frühes Sättigungsgefühl. Es bestand keine Vorerkrankung einer gastroösophagealen Refluxkrankheit oder eines Magenulkus. Die Familienanamnese für gastrointestinale Malignome war negativ. Herr Brody ist Nichtraucher, konsumiert jedoch regelmäßig Alkohol in moderaten Mengen (ca. 5–6 Gläser Bier pro Woche). Eine relevante Medikamentenanamnese bestand nicht. Körperliche Untersuchung: Reduzierter Allgemein- und Ernährungszustand, BMI 22 kg/m², keine Zeichen einer Exsikkose. Abdomen weich, nicht gebläht, diskrete Druckdolenz im Epigastrium ohne Abwehrspannung, keine tastbaren Resistenzen, Darmgeräusche lebhaft. Keine vergrößerten peripheren Lymphknoten palpabel. Haut rosig, keine Blässe oder Ikteruszeichen. Unauffällige Herzaktion und Auskultation, VAG, periphere Durchblutung intakt. Die genetische Variante NM_005936.3:c5687A>G; p.(Met785Val); Chr18:g58484384240T>C ist eine Missense-Mutation, die den Austausch von Methionin durch Valin an Position 455 des\n"
     ]
    }
   ],
   "source": [
    "cleaned_text = text.replace('\\n', ' ')\n",
    "print(cleaned_text)"
   ]
  },
  {
   "cell_type": "code",
   "execution_count": 4,
   "id": "98806514-e294-4c4b-9225-5a00c04d4e5b",
   "metadata": {},
   "outputs": [],
   "source": [
    "\n",
    "# Initialize text-to-speech\n",
    "engine = pyttsx3.init()\n",
    "\n",
    "engine.setProperty('rate', 140)"
   ]
  },
  {
   "cell_type": "code",
   "execution_count": 5,
   "id": "7f89db23-9d37-4728-9ea9-7649e9b437f9",
   "metadata": {},
   "outputs": [],
   "source": [
    "# Set German voice if available\n",
    "voices = engine.getProperty('voices')\n",
    "for voice in voices:\n",
    "    if 'german' in voice.name.lower() or 'de' in str(voice.languages).lower():\n",
    "        engine.setProperty('voice', voice.id)\n",
    "        break\n"
   ]
  },
  {
   "cell_type": "code",
   "execution_count": null,
   "id": "02e0e337-6d32-4f67-b85c-ec7ddad2f363",
   "metadata": {},
   "outputs": [],
   "source": [
    "\n",
    "engine.say(cleaned_text)\n",
    "engine.runAndWait()"
   ]
  },
  {
   "cell_type": "code",
   "execution_count": 6,
   "id": "7e7a9278-b9d7-4915-96d4-6f8412ecf1e4",
   "metadata": {},
   "outputs": [
    {
     "name": "stdout",
     "output_type": "stream",
     "text": [
      "Audio saved as output.wav\n"
     ]
    }
   ],
   "source": [
    "engine.save_to_file(cleaned_text, 'output.wav')\n",
    "engine.runAndWait()\n",
    "\n",
    "print(\"Audio saved as output.wav\")"
   ]
  },
  {
   "cell_type": "code",
   "execution_count": null,
   "id": "83aa9a20-7677-4722-b1d6-1e7fa3a481c2",
   "metadata": {},
   "outputs": [],
   "source": []
  }
 ],
 "metadata": {
  "kernelspec": {
   "display_name": "cuda_gpu_new",
   "language": "python",
   "name": "cuda_gpu_new"
  },
  "language_info": {
   "codemirror_mode": {
    "name": "ipython",
    "version": 3
   },
   "file_extension": ".py",
   "mimetype": "text/x-python",
   "name": "python",
   "nbconvert_exporter": "python",
   "pygments_lexer": "ipython3",
   "version": "3.10.15"
  }
 },
 "nbformat": 4,
 "nbformat_minor": 5
}
